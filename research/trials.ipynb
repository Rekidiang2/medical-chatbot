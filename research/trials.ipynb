{
 "cells": [
  {
   "cell_type": "markdown",
   "id": "38128dc9",
   "metadata": {},
   "source": [
    "## RAG Project : Medical ChatBot"
   ]
  },
  {
   "cell_type": "markdown",
   "id": "24326000",
   "metadata": {},
   "source": [
    "### Change path to project directory"
   ]
  },
  {
   "cell_type": "code",
   "execution_count": 1,
   "id": "26ef657a",
   "metadata": {},
   "outputs": [
    {
     "data": {
      "text/plain": [
       "'/home/reki/Documents/medical-chatbot/research'"
      ]
     },
     "execution_count": 1,
     "metadata": {},
     "output_type": "execute_result"
    }
   ],
   "source": [
    "%pwd"
   ]
  },
  {
   "cell_type": "code",
   "execution_count": 2,
   "id": "b0fdf1c5",
   "metadata": {},
   "outputs": [],
   "source": [
    "import os \n",
    "os.chdir(\"../\")"
   ]
  },
  {
   "cell_type": "markdown",
   "id": "c24f77e7",
   "metadata": {},
   "source": [
    "### 1. Load Documents"
   ]
  },
  {
   "cell_type": "code",
   "execution_count": 3,
   "id": "531da8d6",
   "metadata": {},
   "outputs": [
    {
     "name": "stderr",
     "output_type": "stream",
     "text": [
      "/home/reki/miniconda3/envs/venv-medibot/lib/python3.10/site-packages/tqdm/auto.py:21: TqdmWarning: IProgress not found. Please update jupyter and ipywidgets. See https://ipywidgets.readthedocs.io/en/stable/user_install.html\n",
      "  from .autonotebook import tqdm as notebook_tqdm\n"
     ]
    }
   ],
   "source": [
    "from langchain.document_loaders import PyPDFLoader, DirectoryLoader\n",
    "from langchain.text_splitter import RecursiveCharacterTextSplitter"
   ]
  },
  {
   "cell_type": "code",
   "execution_count": 4,
   "id": "66b0e17f",
   "metadata": {},
   "outputs": [],
   "source": [
    "# Extract text from PDF files\n",
    "def load_pdf_files(data):\n",
    "    loader = DirectoryLoader(\n",
    "        data,\n",
    "        glob=\"*.pdf\",\n",
    "        loader_cls=PyPDFLoader\n",
    "    )\n",
    "    documents = loader.load()\n",
    "    return documents"
   ]
  },
  {
   "cell_type": "markdown",
   "id": "5e503e47",
   "metadata": {},
   "source": [
    "> Display document content and metadata"
   ]
  },
  {
   "cell_type": "code",
   "execution_count": 5,
   "id": "a6db2526",
   "metadata": {},
   "outputs": [
    {
     "name": "stdout",
     "output_type": "stream",
     "text": [
      "Document page : 637\n"
     ]
    }
   ],
   "source": [
    "extracted_data = load_pdf_files(\"data\")\n",
    "print(\"Document page :\", len(extracted_data))"
   ]
  },
  {
   "cell_type": "code",
   "execution_count": 6,
   "id": "d6d9bad5",
   "metadata": {},
   "outputs": [
    {
     "data": {
      "text/html": [
       "<div>\n",
       "<style scoped>\n",
       "    .dataframe tbody tr th:only-of-type {\n",
       "        vertical-align: middle;\n",
       "    }\n",
       "\n",
       "    .dataframe tbody tr th {\n",
       "        vertical-align: top;\n",
       "    }\n",
       "\n",
       "    .dataframe thead th {\n",
       "        text-align: right;\n",
       "    }\n",
       "</style>\n",
       "<table border=\"1\" class=\"dataframe\">\n",
       "  <thead>\n",
       "    <tr style=\"text-align: right;\">\n",
       "      <th></th>\n",
       "      <th>Source</th>\n",
       "      <th>producer</th>\n",
       "      <th>creator</th>\n",
       "      <th>creationdate</th>\n",
       "      <th>Page Content</th>\n",
       "    </tr>\n",
       "  </thead>\n",
       "  <tbody>\n",
       "    <tr>\n",
       "      <th>0</th>\n",
       "      <td>data/Medical_book.pdf</td>\n",
       "      <td>PDFlib+PDI 5.0.0 (SunOS)</td>\n",
       "      <td>PyPDF</td>\n",
       "      <td>2004-12-18T17:00:02-05:00</td>\n",
       "      <td></td>\n",
       "    </tr>\n",
       "    <tr>\n",
       "      <th>1</th>\n",
       "      <td>data/Medical_book.pdf</td>\n",
       "      <td>PDFlib+PDI 5.0.0 (SunOS)</td>\n",
       "      <td>PyPDF</td>\n",
       "      <td>2004-12-18T17:00:02-05:00</td>\n",
       "      <td>The GALE\\nENCYCLOPEDIA\\nof MEDICINE\\nSECOND ED...</td>\n",
       "    </tr>\n",
       "    <tr>\n",
       "      <th>2</th>\n",
       "      <td>data/Medical_book.pdf</td>\n",
       "      <td>PDFlib+PDI 5.0.0 (SunOS)</td>\n",
       "      <td>PyPDF</td>\n",
       "      <td>2004-12-18T17:00:02-05:00</td>\n",
       "      <td>The GALE\\nENCYCLOPEDIA\\nof MEDICINE\\nSECOND ED...</td>\n",
       "    </tr>\n",
       "    <tr>\n",
       "      <th>3</th>\n",
       "      <td>data/Medical_book.pdf</td>\n",
       "      <td>PDFlib+PDI 5.0.0 (SunOS)</td>\n",
       "      <td>PyPDF</td>\n",
       "      <td>2004-12-18T17:00:02-05:00</td>\n",
       "      <td>STAFF\\nJacqueline L. Longe, Project Editor\\nDe...</td>\n",
       "    </tr>\n",
       "    <tr>\n",
       "      <th>4</th>\n",
       "      <td>data/Medical_book.pdf</td>\n",
       "      <td>PDFlib+PDI 5.0.0 (SunOS)</td>\n",
       "      <td>PyPDF</td>\n",
       "      <td>2004-12-18T17:00:02-05:00</td>\n",
       "      <td>Introduction.....................................</td>\n",
       "    </tr>\n",
       "  </tbody>\n",
       "</table>\n",
       "</div>"
      ],
      "text/plain": [
       "                  Source                  producer creator  \\\n",
       "0  data/Medical_book.pdf  PDFlib+PDI 5.0.0 (SunOS)   PyPDF   \n",
       "1  data/Medical_book.pdf  PDFlib+PDI 5.0.0 (SunOS)   PyPDF   \n",
       "2  data/Medical_book.pdf  PDFlib+PDI 5.0.0 (SunOS)   PyPDF   \n",
       "3  data/Medical_book.pdf  PDFlib+PDI 5.0.0 (SunOS)   PyPDF   \n",
       "4  data/Medical_book.pdf  PDFlib+PDI 5.0.0 (SunOS)   PyPDF   \n",
       "\n",
       "                creationdate  \\\n",
       "0  2004-12-18T17:00:02-05:00   \n",
       "1  2004-12-18T17:00:02-05:00   \n",
       "2  2004-12-18T17:00:02-05:00   \n",
       "3  2004-12-18T17:00:02-05:00   \n",
       "4  2004-12-18T17:00:02-05:00   \n",
       "\n",
       "                                        Page Content  \n",
       "0                                                     \n",
       "1  The GALE\\nENCYCLOPEDIA\\nof MEDICINE\\nSECOND ED...  \n",
       "2  The GALE\\nENCYCLOPEDIA\\nof MEDICINE\\nSECOND ED...  \n",
       "3  STAFF\\nJacqueline L. Longe, Project Editor\\nDe...  \n",
       "4  Introduction.....................................  "
      ]
     },
     "execution_count": 6,
     "metadata": {},
     "output_type": "execute_result"
    }
   ],
   "source": [
    "import pandas as pd\n",
    "\n",
    "# Prepare data for the table\n",
    "data = {\n",
    "    \"Source\": [doc.metadata.get(\"source\", \"\") for doc in extracted_data],\n",
    "    \"producer\": [doc.metadata.get(\"producer\", \"\") for doc in extracted_data],\n",
    "    \"creator\": [doc.metadata.get(\"creator\", \"\") for doc in extracted_data],\n",
    "    \"creationdate\": [doc.metadata.get(\"creationdate\", \"\") for doc in extracted_data],\n",
    "    \"Page Content\": [doc.page_content for doc in extracted_data]\n",
    "}\n",
    "# Create DataFrame and display\n",
    "df = pd.DataFrame(data)\n",
    "df.head()"
   ]
  },
  {
   "cell_type": "code",
   "execution_count": 7,
   "id": "bb3dc477",
   "metadata": {},
   "outputs": [
    {
     "name": "stdout",
     "output_type": "stream",
     "text": [
      "Document page content:\n",
      " STAFF\n",
      "Jacqueline L. Longe, Project Editor\n",
      "Deirdre S. Blanchfield, Associate Editor\n",
      "Christine B. Jeryan, Managing Editor\n",
      "Donna Olendorf, Senior Editor\n",
      "Stacey Blachford, Associate Editor\n",
      "Kate Kretschmann, Melissa C. McDade, Ryan\n",
      "Thomason, Assistant Editors\n",
      "Mark Springer, Technical Specialist\n",
      "Andrea Lopeman, Programmer/Analyst\n",
      "Barbara J. Yarrow,Manager, Imaging and Multimedia\n",
      "Content\n",
      "Robyn V . Young,Project Manager, Imaging and\n",
      "Multimedia Content\n",
      "Dean Dauphinais, Senior Editor, Imaging and\n",
      "Multimedia Content\n",
      "Kelly A. Quin, Editor, Imaging and Multimedia Content\n",
      "Leitha Etheridge-Sims, Mary K. Grimes, Dave Oblender,\n",
      "Image Catalogers\n",
      "Pamela A. Reed, Imaging Coordinator\n",
      "Randy Bassett, Imaging Supervisor\n",
      "Robert Duncan, Senior Imaging Specialist\n",
      "Dan Newell, Imaging Specialist\n",
      "Christine O’Bryan,Graphic Specialist\n",
      "Maria Franklin, Permissions Manager\n",
      "Margaret A. Chamberlain, Permissions Specialist\n",
      "Michelle DiMercurio, Senior Art Director\n",
      "Mike Logusz, Graphic Artist\n",
      "Mary Beth Trimper,Manager, Compo\n"
     ]
    }
   ],
   "source": [
    "### Get page contents\n",
    "print(\"Document page content:\\n\", extracted_data[3].page_content[:1000])"
   ]
  },
  {
   "cell_type": "markdown",
   "id": "77a67edd",
   "metadata": {},
   "source": [
    "> Load minimal document elements for embedding"
   ]
  },
  {
   "cell_type": "code",
   "execution_count": 8,
   "id": "e1933b93",
   "metadata": {},
   "outputs": [],
   "source": [
    "from typing import List\n",
    "from langchain.schema import Document\n",
    "\n",
    "def filter_to_minimal_docs(docs: List[Document]) -> List[Document]:\n",
    "    \"\"\"\n",
    "    Given a list of Document objects, return a new list of Document objects\n",
    "    containing only 'source' in metadata and the original page_content.\n",
    "    \"\"\"\n",
    "    minimal_docs: List[Document] = []\n",
    "    for doc in docs:\n",
    "        src = doc.metadata.get(\"source\")\n",
    "        minimal_docs.append(\n",
    "            Document(\n",
    "                page_content=doc.page_content,\n",
    "                metadata={\"source\": src}\n",
    "            )\n",
    "        )\n",
    "    return minimal_docs"
   ]
  },
  {
   "cell_type": "code",
   "execution_count": 9,
   "id": "e84f2a1e",
   "metadata": {},
   "outputs": [],
   "source": [
    "minimal_docs = filter_to_minimal_docs(extracted_data)"
   ]
  },
  {
   "cell_type": "code",
   "execution_count": 10,
   "id": "e8419e06",
   "metadata": {},
   "outputs": [
    {
     "data": {
      "text/html": [
       "<div>\n",
       "<style scoped>\n",
       "    .dataframe tbody tr th:only-of-type {\n",
       "        vertical-align: middle;\n",
       "    }\n",
       "\n",
       "    .dataframe tbody tr th {\n",
       "        vertical-align: top;\n",
       "    }\n",
       "\n",
       "    .dataframe thead th {\n",
       "        text-align: right;\n",
       "    }\n",
       "</style>\n",
       "<table border=\"1\" class=\"dataframe\">\n",
       "  <thead>\n",
       "    <tr style=\"text-align: right;\">\n",
       "      <th></th>\n",
       "      <th>Source</th>\n",
       "      <th>Page Content</th>\n",
       "    </tr>\n",
       "  </thead>\n",
       "  <tbody>\n",
       "    <tr>\n",
       "      <th>0</th>\n",
       "      <td>data/Medical_book.pdf</td>\n",
       "      <td></td>\n",
       "    </tr>\n",
       "    <tr>\n",
       "      <th>1</th>\n",
       "      <td>data/Medical_book.pdf</td>\n",
       "      <td>The GALE\\nENCYCLOPEDIA\\nof MEDICINE\\nSECOND ED...</td>\n",
       "    </tr>\n",
       "    <tr>\n",
       "      <th>2</th>\n",
       "      <td>data/Medical_book.pdf</td>\n",
       "      <td>The GALE\\nENCYCLOPEDIA\\nof MEDICINE\\nSECOND ED...</td>\n",
       "    </tr>\n",
       "    <tr>\n",
       "      <th>3</th>\n",
       "      <td>data/Medical_book.pdf</td>\n",
       "      <td>STAFF\\nJacqueline L. Longe, Project Editor\\nDe...</td>\n",
       "    </tr>\n",
       "    <tr>\n",
       "      <th>4</th>\n",
       "      <td>data/Medical_book.pdf</td>\n",
       "      <td>Introduction.....................................</td>\n",
       "    </tr>\n",
       "  </tbody>\n",
       "</table>\n",
       "</div>"
      ],
      "text/plain": [
       "                  Source                                       Page Content\n",
       "0  data/Medical_book.pdf                                                   \n",
       "1  data/Medical_book.pdf  The GALE\\nENCYCLOPEDIA\\nof MEDICINE\\nSECOND ED...\n",
       "2  data/Medical_book.pdf  The GALE\\nENCYCLOPEDIA\\nof MEDICINE\\nSECOND ED...\n",
       "3  data/Medical_book.pdf  STAFF\\nJacqueline L. Longe, Project Editor\\nDe...\n",
       "4  data/Medical_book.pdf  Introduction....................................."
      ]
     },
     "execution_count": 10,
     "metadata": {},
     "output_type": "execute_result"
    }
   ],
   "source": [
    "import pandas as pd\n",
    "\n",
    "# Prepare data for the table\n",
    "data = {\n",
    "    \"Source\": [doc.metadata.get(\"source\", \"\") for doc in minimal_docs],\n",
    "    \"Page Content\": [doc.page_content for doc in minimal_docs]\n",
    "}\n",
    "\n",
    "# Create DataFrame and display\n",
    "df = pd.DataFrame(data)\n",
    "df.head()"
   ]
  },
  {
   "cell_type": "markdown",
   "id": "8432e17d",
   "metadata": {},
   "source": [
    "### 2. Split document into Chunks"
   ]
  },
  {
   "cell_type": "code",
   "execution_count": 11,
   "id": "aa5d70d2",
   "metadata": {},
   "outputs": [],
   "source": [
    "# Split the documents into smaller chunks\n",
    "def text_split(minimal_docs):\n",
    "    text_splitter = RecursiveCharacterTextSplitter(\n",
    "        chunk_size=500,\n",
    "        chunk_overlap=20,\n",
    "    )\n",
    "    texts_chunk = text_splitter.split_documents(minimal_docs)\n",
    "    return texts_chunk"
   ]
  },
  {
   "cell_type": "code",
   "execution_count": 12,
   "id": "40116952",
   "metadata": {},
   "outputs": [
    {
     "name": "stdout",
     "output_type": "stream",
     "text": [
      "Number of chunks: 5859\n",
      "Random Numbern chunks Selected : 4265\n",
      "Random Chunk Word count: 69\n",
      "Random Chunk Character count: 447\n",
      "Random Chunk Content:\n",
      "\n",
      " disease is limited to a small area of the Andes Mountains\n",
      "in western South America; nearly all cases have been in\n",
      "Peru, Colombia, and Ecuador. A large outbreak involving\n",
      "thousands of people occurred in 1940–41, but bartonel-\n",
      "losis has since occurred sporadically. Control of sand-\n",
      "flies, the only known disease carrier (vector), has been\n",
      "credited with managing the disease.\n",
      "Causes and symptoms\n",
      "Bartonellosis is transmitted by the nocturnal sandfly\n"
     ]
    }
   ],
   "source": [
    "import random\n",
    "\n",
    "def count_words(text):\n",
    "    return len(text.split())\n",
    "texts_chunk = text_split(minimal_docs)\n",
    "# Select a random chunk index\n",
    "random_chunk = random.randint(1, len(texts_chunk))\n",
    "# Example usage:\n",
    "sample_text = texts_chunk[random_chunk].page_content\n",
    "word_count = count_words(sample_text)\n",
    "character_count = len(sample_text)\n",
    "print(f\"Number of chunks: {len(texts_chunk)}\")\n",
    "print(f\"Random Numbern chunks Selected : {random_chunk}\")\n",
    "print(\"Random Chunk Word count:\", word_count)\n",
    "print(\"Random Chunk Character count:\", character_count)\n",
    "print(\"Random Chunk Content:\\n\\n\", texts_chunk[random_chunk].page_content)\n",
    "\n"
   ]
  },
  {
   "cell_type": "markdown",
   "id": "7f615576",
   "metadata": {},
   "source": [
    "### 3. Text Embedding"
   ]
  },
  {
   "cell_type": "code",
   "execution_count": 13,
   "id": "560122ea",
   "metadata": {},
   "outputs": [
    {
     "name": "stderr",
     "output_type": "stream",
     "text": [
      "/tmp/ipykernel_28281/30168171.py:8: LangChainDeprecationWarning: The class `HuggingFaceEmbeddings` was deprecated in LangChain 0.2.2 and will be removed in 1.0. An updated version of the class exists in the :class:`~langchain-huggingface package and should be used instead. To use it run `pip install -U :class:`~langchain-huggingface` and import as `from :class:`~langchain_huggingface import HuggingFaceEmbeddings``.\n",
      "  embeddings = HuggingFaceEmbeddings(\n"
     ]
    }
   ],
   "source": [
    "from langchain.embeddings import HuggingFaceEmbeddings\n",
    "\n",
    "def download_embeddings():\n",
    "    \"\"\"\n",
    "    Download and return the HuggingFace embeddings model.\n",
    "    \"\"\"\n",
    "    model_name = \"sentence-transformers/all-MiniLM-L6-v2\"\n",
    "    embeddings = HuggingFaceEmbeddings(\n",
    "        model_name=model_name\n",
    "    )\n",
    "    return embeddings\n",
    "\n",
    "embedding = download_embeddings()"
   ]
  },
  {
   "cell_type": "code",
   "execution_count": 14,
   "id": "d1e859a2",
   "metadata": {},
   "outputs": [
    {
     "name": "stdout",
     "output_type": "stream",
     "text": [
      "Embedding size :  384\n",
      "Embedding vector :  [0.06012215092778206, -0.01892496645450592, -0.002912055002525449, 0.055078666657209396, 0.060785096138715744, -0.032075341790914536, 0.03570769354701042, -0.02875601500272751, -0.04718735069036484, 0.07564855366945267, 0.08060812205076218, -0.003895913017913699, 0.004809449892491102, 0.08964019268751144, -0.04438679292798042, 0.028742648661136627, -0.060592878609895706, -0.09547184407711029, 0.0721321702003479, 0.06929626315832138, -0.015975212678313255, 0.10873381048440933, -0.0020235429983586073, 0.021238096058368683, -0.12038499861955643, -0.023920513689517975, 0.027192866429686546, -0.02826279029250145, -0.03883209079504013, -0.058319319039583206, -0.06295912712812424, 0.0715273842215538, -0.03102743998169899, -0.024688255041837692, -0.020313717424869537, -0.03470931202173233, -0.011097008362412453, -0.0509861521422863, 0.007796239107847214, 0.04377606511116028, -0.018627390265464783, -0.052076976746320724, 0.06433876603841782, -0.03081890195608139, -0.08282344043254852, -0.02405915968120098, 0.029540708288550377, 0.06550383567810059, 0.11002901941537857, -0.019899286329746246, -0.0021666893735527992, -0.03896976262331009, -0.06624101102352142, 0.011748425662517548, 0.012860474176704884, -0.07473600655794144, -0.03139190375804901, -0.021595031023025513, -0.06983759254217148, -0.057956989854574203, -0.023721909150481224, 0.030401142314076424, 0.03184870630502701, -0.007671029306948185, 0.006223088596016169, 0.027011899277567863, -0.07687165588140488, 0.011015407741069794, 0.03122873790562153, 0.005042304750531912, 0.028338657692074776, -0.01079992949962616, -0.09711120277643204, 0.12720036506652832, 0.01372110191732645, 0.040729351341724396, 0.05897112190723419, 0.06731144338846207, 0.04513035714626312, 0.056121647357940674, -0.0240166075527668, 0.012152138166129589, 0.08190823346376419, 0.0033878472167998552, 0.05481673777103424, 0.07905355840921402, 0.03011155314743519, 0.0306337159126997, 0.01267331000417471, 0.06449789553880692, 0.05855904519557953, 0.04226572439074516, -0.025810478255152702, 0.013688860461115837, -0.01938472129404545, -0.036925069987773895, 0.015067814849317074, -0.03134371340274811, -0.09365149587392807, -0.011761225759983063, -0.04248098284006119, -0.05831630527973175, 0.008085992187261581, 0.008613720536231995, 0.0012322141556069255, 0.021182669326663017, 0.005244728643447161, -0.08205407857894897, -0.04837772622704506, -0.03890535235404968, -0.04242077097296715, 0.12778325378894806, 0.011829182505607605, -0.0007260700222104788, 0.005433222744613886, -0.04197487235069275, 0.0098659573122859, 0.0010027885437011719, 0.01984735019505024, -0.04192100465297699, 0.055932268500328064, -0.015836410224437714, -0.01528259739279747, -0.025495242327451706, 0.050966691225767136, 0.01282268576323986, -0.026914533227682114, -5.401257066868621e-35, 0.06768227368593216, -0.042600035667419434, -0.022631509229540825, 0.07980291545391083, 0.023051800206303596, -0.0051657590083777905, -0.057688042521476746, 0.04911421239376068, -0.003763946471735835, -0.025304138660430908, -0.1083872839808464, -0.09495510905981064, 0.07379989326000214, 0.04541231691837311, 0.06230566278100014, 0.03680579364299774, 0.02535693161189556, -0.08550950884819031, 0.008168088272213936, -0.012141444720327854, -0.01999279111623764, 0.0019856183789670467, 0.0260317325592041, 0.021492164582014084, -0.012300530448555946, 0.10682838410139084, -0.045093078166246414, -0.06641823798418045, 0.007254809606820345, 0.024318242445588112, 0.06349451839923859, -0.03117581456899643, 0.0270333644002676, 0.01932857744395733, -0.017160847783088684, 0.06090625002980232, 0.02620832249522209, -0.006729892920702696, -0.057221803814172745, 0.025293897837400436, 0.026498593389987946, 0.023392045870423317, -0.027638599276542664, 0.04321073740720749, 0.03461390361189842, -0.10552617907524109, -0.02081870660185814, 0.02359890192747116, -0.05177661404013634, -0.017319709062576294, 0.04243154078722, 0.03642602637410164, 0.052507806569337845, -0.07017254084348679, 0.01661977358162403, -0.030611583963036537, -0.03272635117173195, -0.038142990320920944, -0.08923991769552231, 0.0823005959391594, 0.1048491969704628, 0.0375552736222744, 0.07666758447885513, -0.016430916264653206, 0.04042116552591324, -0.01259222999215126, 0.08141791820526123, -0.07071127742528915, -0.04141830652952194, -0.008733508177101612, 0.023397693410515785, 0.019766641780734062, 0.00506174610927701, -0.0797506719827652, -0.06962673366069794, -0.03531729429960251, 0.012045164592564106, -0.055940285325050354, 0.05579584464430809, -0.0027735624462366104, -0.0929684191942215, -0.00010659564577508718, 0.15689562261104584, 0.048529792577028275, -0.01670767366886139, 0.03607122600078583, 0.0425395704805851, 0.03175971284508705, -0.048568565398454666, 0.056067340075969696, -0.04339500144124031, 0.09133218973875046, -0.0038732353132218122, -0.036523766815662384, 0.03499283269047737, -1.7259899265848807e-33, -0.04289637506008148, -0.05793401598930359, -0.02129083313047886, -0.0978371724486351, -0.10693265497684479, 0.0074882530607283115, 0.004967194981873035, 0.020663579925894737, -0.03744685649871826, -0.042717207223176956, -0.08546194434165955, -0.003542541293427348, 0.04968082532286644, -0.0459916926920414, 0.02677106484770775, 0.020311575382947922, -0.011994811706244946, -0.08008492738008499, -0.004190754145383835, -0.05509033054113388, -0.10530900955200195, 0.053028546273708344, 0.10256284475326538, -0.11974513530731201, 0.018613537773489952, -0.017893459647893906, 0.0026592910289764404, 0.09063495695590973, -0.07544701546430588, -0.1142682135105133, 0.06282864511013031, 0.04451441392302513, 0.07527599483728409, 0.010170409455895424, -0.07310574501752853, 0.08852799981832504, 0.023876193910837173, -0.04728199541568756, 0.03148709237575531, -0.050644874572753906, 0.05664530768990517, -0.025417322292923927, -0.009388057515025139, -0.07012918591499329, 0.015606394037604332, 0.04244154319167137, -0.045109618455171585, 0.05863251909613609, 0.008643053472042084, 0.07242149859666824, 0.03594369441270828, -0.0058726295828819275, -0.012005459517240524, 0.052363019436597824, -0.019886504858732224, -0.03877834603190422, -0.020235056057572365, -0.07667875289916992, -0.03215312212705612, -0.054554473608732224, -0.02809503674507141, -0.047903046011924744, -0.09358804672956467, 0.0285474993288517, 0.09195442497730255, 0.05713440105319023, 0.036880508065223694, 0.05544853210449219, 0.05785248056054115, -0.05340535193681717, 0.062229376286268234, -0.010881138034164906, -0.04374052956700325, 0.014599671587347984, -0.024489114060997963, -0.010291414335370064, -0.011087710037827492, 0.05088517442345619, 0.0458495169878006, -0.017258182168006897, -0.08291027694940567, -0.03729810565710068, 0.04627029970288277, 0.0406847819685936, -0.017351455986499786, 0.01049763336777687, 0.010560526512563229, -0.06287205964326859, 0.01227506436407566, 0.013062424957752228, -0.042073823511600494, -0.06455839425325394, -0.06559928506612778, -0.07767987996339798, -0.08278021216392517, -3.500988654536741e-08, 0.07773219794034958, 0.0032923254184424877, -0.07187070697546005, -0.02149103209376335, -0.0006011422956362367, 0.09045791625976562, -0.02170388214290142, 0.012398150749504566, 0.050990354269742966, 0.0913880467414856, -0.08173873275518417, 0.03400828316807747, 0.07484019547700882, -0.0376562625169754, 0.06422621756792068, 0.015895413234829903, -0.05820516496896744, 0.045069918036460876, -0.05675515905022621, -0.08231376111507416, -0.04317481815814972, 0.03957563638687134, -0.07281766831874847, 0.022951455786824226, -0.008022120222449303, -0.06572611629962921, -0.03860895335674286, -0.06343378126621246, 0.02617577835917473, -0.040701985359191895, -0.06527748703956604, -0.03452831506729126, 0.05849721282720566, -0.04921416565775871, -0.02922421507537365, -0.029524870216846466, 0.03746921196579933, -0.02063860557973385, 0.09313851594924927, -0.014172923751175404, 0.03745155408978462, 0.0044396184384822845, 0.0023101891856640577, -0.028746992349624634, -0.03369583189487457, -0.06180986762046814, -0.006866018287837505, 0.02152935415506363, 0.04547852277755737, 0.018892960622906685, 0.03003019280731678, 0.04601550102233887, 0.1017552986741066, 0.028214845806360245, -0.05997294560074806, -0.0031954231671988964, 0.04999218136072159, -0.0693097859621048, 0.07001004368066788, -0.017257722094655037, -0.05258779600262642, 0.014681223779916763, -0.050984784960746765, 0.04291902482509613]\n"
     ]
    }
   ],
   "source": [
    "vector = embedding.embed_query(sample_text)\n",
    "print(\"Embedding size : \", len(vector))\n",
    "print(\"Embedding vector : \", vector)"
   ]
  },
  {
   "cell_type": "markdown",
   "id": "b44764aa",
   "metadata": {},
   "source": [
    "### 4. Vecror Database"
   ]
  },
  {
   "cell_type": "code",
   "execution_count": 15,
   "id": "ca703d42",
   "metadata": {},
   "outputs": [],
   "source": [
    "# Access environment variables\n",
    "from dotenv import load_dotenv\n",
    "import os\n",
    "load_dotenv()\n",
    "# Access environment variables\n",
    "PINECONE_API_KEY = os.getenv(\"PINECONE_API_KEY\")\n",
    "os.environ[\"PINECONE_API_KEY\"] = PINECONE_API_KEY"
   ]
  },
  {
   "cell_type": "code",
   "execution_count": 17,
   "id": "1eee66be",
   "metadata": {},
   "outputs": [
    {
     "data": {
      "text/plain": [
       "<pinecone.pinecone.Pinecone at 0x73bbfd06efe0>"
      ]
     },
     "execution_count": 17,
     "metadata": {},
     "output_type": "execute_result"
    }
   ],
   "source": [
    "# Check Pinecone API connection\n",
    "from pinecone import Pinecone \n",
    "pc = Pinecone(api_key=PINECONE_API_KEY)\n",
    "pc"
   ]
  },
  {
   "cell_type": "code",
   "execution_count": 18,
   "id": "baacb275",
   "metadata": {},
   "outputs": [],
   "source": [
    "# Create Pinecone index or connect to existing one \n",
    "from pinecone import ServerlessSpec\n",
    "index_name = \"medi-bot\"\n",
    "\n",
    "if not pc.has_index(index_name):\n",
    "    pc.create_index(\n",
    "        name=index_name,\n",
    "        dimension=384,  # Dimension of the embeddings\n",
    "        metric=\"cosine\",  # Cosine similarity\n",
    "        spec=ServerlessSpec(cloud=\"aws\", region=\"us-east-1\")\n",
    "    )\n",
    "\n",
    "index = pc.Index(index_name)"
   ]
  },
  {
   "cell_type": "code",
   "execution_count": 19,
   "id": "00f72043",
   "metadata": {},
   "outputs": [
    {
     "name": "stdout",
     "output_type": "stream",
     "text": [
      "Pinecone API connection successful.\n",
      "Index stats: {'deletion_protection': 'disabled',\n",
      " 'dimension': 384,\n",
      " 'host': 'medi-bot-8g8vd2x.svc.aped-4627-b74a.pinecone.io',\n",
      " 'metric': 'cosine',\n",
      " 'name': 'medi-bot',\n",
      " 'spec': {'serverless': {'cloud': 'aws', 'region': 'us-east-1'}},\n",
      " 'status': {'ready': True, 'state': 'Ready'},\n",
      " 'tags': None,\n",
      " 'vector_type': 'dense'}\n"
     ]
    }
   ],
   "source": [
    "# Check Pinecone API connection and index stats\n",
    "try:\n",
    "    stats = pc.describe_index(index_name)\n",
    "    print(\"Pinecone API connection successful.\")\n",
    "    print(\"Index stats:\", stats)\n",
    "except Exception as e:\n",
    "    print(\"Pinecone API connection failed:\", e)"
   ]
  },
  {
   "cell_type": "code",
   "execution_count": null,
   "id": "c2174568",
   "metadata": {},
   "outputs": [],
   "source": [
    "# Create Pinecone vector store from documents\n",
    "from langchain_pinecone import PineconeVectorStore\n",
    "\n",
    "docsearch = PineconeVectorStore.from_documents(\n",
    "    documents=texts_chunk,\n",
    "    embedding=embedding,\n",
    "    index_name=index_name\n",
    ")"
   ]
  },
  {
   "cell_type": "markdown",
   "id": "a97eb20e",
   "metadata": {},
   "source": [
    "### 5. Retrieve data from Knowledge Base"
   ]
  },
  {
   "cell_type": "code",
   "execution_count": 20,
   "id": "98961c6f",
   "metadata": {},
   "outputs": [],
   "source": [
    "# Load Existing index \n",
    "\n",
    "from langchain_pinecone import PineconeVectorStore\n",
    "# Embed each chunk and upsert the embeddings into your Pinecone index.\n",
    "docsearch = PineconeVectorStore.from_existing_index(\n",
    "    index_name=index_name,\n",
    "    embedding=embedding\n",
    ")"
   ]
  },
  {
   "cell_type": "code",
   "execution_count": 21,
   "id": "da3afb87",
   "metadata": {},
   "outputs": [],
   "source": [
    "retriever = docsearch.as_retriever(search_type=\"similarity\", search_kwargs={\"k\":3})"
   ]
  },
  {
   "cell_type": "code",
   "execution_count": 22,
   "id": "1551288a",
   "metadata": {},
   "outputs": [
    {
     "data": {
      "text/plain": [
       "[Document(id='0c6b6a02-dc4c-49d6-84a9-f44adf7b031d', metadata={'source': 'data/Medical_book.pdf'}, page_content='GALE ENCYCLOPEDIA OF MEDICINE 226\\nAcne\\nGEM - 0001 to 0432 - A  10/22/03 1:41 PM  Page 26'),\n",
       " Document(id='a089d50c-b605-4e50-a810-591a3feeade9', metadata={'source': 'data/Medical_book.pdf'}, page_content='GALE ENCYCLOPEDIA OF MEDICINE 2 25\\nAcne\\nAcne vulgaris affecting a woman’s face. Acne is the general\\nname given to a skin disorder in which the sebaceous\\nglands become inflamed. (Photograph by Biophoto Associ-\\nates, Photo Researchers, Inc. Reproduced by permission.)\\nGEM - 0001 to 0432 - A  10/22/03 1:41 PM  Page 25'),\n",
       " Document(id='3f8e0a96-78e2-49f9-9995-a325cbcc68a1', metadata={'source': 'data/Medical_book.pdf'}, page_content='Acidosis see Respiratory acidosis; Renal\\ntubular acidosis; Metabolic acidosis\\nAcne\\nDefinition\\nAcne is a common skin disease characterized by\\npimples on the face, chest, and back. It occurs when the\\npores of the skin become clogged with oil, dead skin\\ncells, and bacteria.\\nDescription\\nAcne vulgaris, the medical term for common acne, is\\nthe most common skin disease. It affects nearly 17 million\\npeople in the United States. While acne can arise at any')]"
      ]
     },
     "execution_count": 22,
     "metadata": {},
     "output_type": "execute_result"
    }
   ],
   "source": [
    "retrieved_docs = retriever.invoke(\"What is Acne?\")\n",
    "retrieved_docs"
   ]
  },
  {
   "cell_type": "markdown",
   "id": "8ddecb9c",
   "metadata": {},
   "source": [
    "### 6. Retrieve knowledge Intelligently with LLM"
   ]
  },
  {
   "cell_type": "code",
   "execution_count": null,
   "id": "3008295c",
   "metadata": {},
   "outputs": [],
   "source": [
    "# Use Groq LLM Provider\n",
    "import os\n",
    "GROQ_API_KEY = os.getenv(\"GROQ_API_KEY\")\n",
    "os.environ[\"GROQ_API_KEY\"] = GROQ_API_KEY\n",
    "\n",
    "GROQ_API_KEY = os.getenv(\"GROQ_API_KEY\")\n",
    "# --- IGNORE ---\n",
    "# --- IGNORE ---\n",
    "# os.environ[\"PINECONE_API_KEY\"] = PINECONE_API_KEY --- IGNORE ---\n",
    "# os.environ[\"GROQ_API_KEY\"] = GROQ_API_KEY --- IGNORE ---      "
   ]
  },
  {
   "cell_type": "code",
   "execution_count": null,
   "id": "86ec30db",
   "metadata": {},
   "outputs": [],
   "source": [
    "import getpass\n",
    "import os\n",
    "# Prompt for API key if not set\n",
    "if not os.environ.get(\"GROQ_API_KEY\"):\n",
    "  # Prompt for API key securely\n",
    "  os.environ[\"GROQ_API_KEY\"] = getpass.getpass(\"Enter API key for Groq: \")\n",
    "  # Get LLM model\n",
    "from langchain.chat_models import init_chat_model\n",
    "model = init_chat_model(\"llama-3.3-70b-versatile\", model_provider=\"groq\")"
   ]
  },
  {
   "cell_type": "code",
   "execution_count": 26,
   "id": "56f31446",
   "metadata": {},
   "outputs": [
    {
     "data": {
      "text/plain": [
       "AIMessage(content=\"Hello! It's nice to meet you. Is there something I can help you with or would you like to chat?\", additional_kwargs={}, response_metadata={'token_usage': {'completion_tokens': 25, 'prompt_tokens': 39, 'total_tokens': 64, 'completion_time': 0.034802591, 'prompt_time': 0.011298004, 'queue_time': 0.084394172, 'total_time': 0.046100595}, 'model_name': 'llama-3.3-70b-versatile', 'system_fingerprint': 'fp_3f3b593e33', 'service_tier': 'on_demand', 'finish_reason': 'stop', 'logprobs': None}, id='run--4dc5d7da-71e6-44ba-87eb-7aceea5ed364-0', usage_metadata={'input_tokens': 39, 'output_tokens': 25, 'total_tokens': 64})"
      ]
     },
     "execution_count": 26,
     "metadata": {},
     "output_type": "execute_result"
    }
   ],
   "source": [
    "model.invoke(\"Hello, world!\")"
   ]
  },
  {
   "cell_type": "code",
   "execution_count": 27,
   "id": "e4b9b0b7",
   "metadata": {},
   "outputs": [],
   "source": [
    "from langchain.chains import create_retrieval_chain\n",
    "from langchain.chains.combine_documents import create_stuff_documents_chain\n",
    "from langchain_core.prompts import ChatPromptTemplate"
   ]
  },
  {
   "cell_type": "code",
   "execution_count": 31,
   "id": "b90df715",
   "metadata": {},
   "outputs": [],
   "source": [
    "system_prompt = (\n",
    "    \"You are an Medical assistant for question-answering tasks. \"\n",
    "    \"Use the following pieces of retrieved context to answer \"\n",
    "    \"the question. If you don't know the answer, say that you \"\n",
    "    \"don't know. Use three sentences maximum and keep the \"\n",
    "    \"answer concise.\"\n",
    "    \"Check question's language and answer in the same language.\"\n",
    "    \"\\n\\n\"\n",
    "    \"{context}\"\n",
    ")\n",
    "\n",
    "\n",
    "prompt = ChatPromptTemplate.from_messages(\n",
    "    [\n",
    "        (\"system\", system_prompt),\n",
    "        (\"human\", \"{input}\"),\n",
    "    ]\n",
    ")"
   ]
  },
  {
   "cell_type": "code",
   "execution_count": 32,
   "id": "63326f0a",
   "metadata": {},
   "outputs": [],
   "source": [
    "question_answer_chain = create_stuff_documents_chain(model, prompt)\n",
    "rag_chain = create_retrieval_chain(retriever, question_answer_chain)"
   ]
  },
  {
   "cell_type": "code",
   "execution_count": 33,
   "id": "e985cb2b",
   "metadata": {},
   "outputs": [
    {
     "name": "stdout",
     "output_type": "stream",
     "text": [
      "Acromegaly is a disorder caused by the abnormal release of a chemical from the pituitary gland, leading to increased growth in bone and soft tissue. Gigantism occurs when this abnormality happens before bone growth stops, resulting in unusual height. Acromegaly occurs when the abnormality happens after bone growth stops, causing a range of other disturbances throughout the body.\n"
     ]
    }
   ],
   "source": [
    "response = rag_chain.invoke({\"input\": \"what is Acromegaly and gigantism?\"})\n",
    "print(response[\"answer\"])\n"
   ]
  },
  {
   "cell_type": "code",
   "execution_count": 34,
   "id": "adcc7d6e",
   "metadata": {},
   "outputs": [
    {
     "name": "stdout",
     "output_type": "stream",
     "text": [
      "L'acromégalie est un trouble caractérisé par une croissance anormale des os et des tissus mous en raison d'une libération excessive d'hormone de croissance par la glande pituitaire. Le gigantisme est une condition similaire qui se produit chez les enfants et les adolescents avant la fermeture des plaques de croissance. Les deux conditions entraînent des troubles variés dans l'organisme.\n"
     ]
    }
   ],
   "source": [
    "response = rag_chain.invoke({\"input\": \"c'est quoi l'acromégalie et le gigantisme ?\"})\n",
    "print(response[\"answer\"])"
   ]
  }
 ],
 "metadata": {
  "kernelspec": {
   "display_name": "venv-medibot",
   "language": "python",
   "name": "python3"
  },
  "language_info": {
   "codemirror_mode": {
    "name": "ipython",
    "version": 3
   },
   "file_extension": ".py",
   "mimetype": "text/x-python",
   "name": "python",
   "nbconvert_exporter": "python",
   "pygments_lexer": "ipython3",
   "version": "3.10.18"
  }
 },
 "nbformat": 4,
 "nbformat_minor": 5
}
